{
  "cells": [
    {
      "cell_type": "markdown",
      "metadata": {
        "id": "view-in-github",
        "colab_type": "text"
      },
      "source": [
        "<a href=\"https://colab.research.google.com/github/Sayandip2023/Object-Detection/blob/main/Extraction.ipynb\" target=\"_parent\"><img src=\"https://colab.research.google.com/assets/colab-badge.svg\" alt=\"Open In Colab\"/></a>"
      ]
    },
    {
      "cell_type": "code",
      "source": [
        "!pip install pytesseract\n",
        "!pip install opencv-python\n"
      ],
      "metadata": {
        "colab": {
          "base_uri": "https://localhost:8080/"
        },
        "id": "EdwhHYjH6Cbs",
        "outputId": "fd461694-63f0-4986-cdd3-c012c37cb1f3"
      },
      "execution_count": 11,
      "outputs": [
        {
          "output_type": "stream",
          "name": "stdout",
          "text": [
            "Requirement already satisfied: pytesseract in /usr/local/lib/python3.10/dist-packages (0.3.10)\n",
            "Requirement already satisfied: packaging>=21.3 in /usr/local/lib/python3.10/dist-packages (from pytesseract) (23.1)\n",
            "Requirement already satisfied: Pillow>=8.0.0 in /usr/local/lib/python3.10/dist-packages (from pytesseract) (9.4.0)\n",
            "Requirement already satisfied: opencv-python in /usr/local/lib/python3.10/dist-packages (4.8.0.76)\n",
            "Requirement already satisfied: numpy>=1.21.2 in /usr/local/lib/python3.10/dist-packages (from opencv-python) (1.23.5)\n"
          ]
        }
      ]
    },
    {
      "cell_type": "code",
      "source": [
        "import cv2\n",
        "import pytesseract\n",
        "import xml.etree.ElementTree as ET\n",
        "\n",
        "# Path to the XML file\n",
        "xml_file_path = '/content/Datacluster_number_plates (101).xml'  # Replace with the path to your XML file\n",
        "\n",
        "# Parse the XML file\n",
        "tree = ET.parse(xml_file_path)\n",
        "root = tree.getroot()\n",
        "\n",
        "# Extract relevant information from the XML\n",
        "filename = root.find('filename').text\n",
        "object_info = root.find('object')\n",
        "xmin = float(object_info.find('bndbox/xmin').text)\n",
        "ymin = float(object_info.find('bndbox/ymin').text)\n",
        "xmax = float(object_info.find('bndbox/xmax').text)\n",
        "ymax = float(object_info.find('bndbox/ymax').text)\n",
        "\n",
        "# Load the corresponding image\n",
        "image_path = '/content/dataset/Indian_Number_Plates/Sample_Images/Datacluster_number_plates (101).jpg'  # Assuming the image is in the same directory as the XML file\n",
        "image = cv2.imread(image_path)\n",
        "\n",
        "# Crop the region of interest (ROI) based on the bounding box values\n",
        "roi = image[int(ymin):int(ymax), int(xmin):int(xmax)]\n",
        "\n",
        "# Convert the ROI to grayscale\n",
        "gray_roi = cv2.cvtColor(roi, cv2.COLOR_BGR2GRAY)\n",
        "\n",
        "# Perform OCR using Tesseract on the cropped and grayscale ROI\n",
        "extracted_text = pytesseract.image_to_string(gray_roi, lang='eng')  # Replace 'eng' with the appropriate language code if needed.\n",
        "\n",
        "# Print the extracted text\n",
        "print(\"Extracted Text:\")\n",
        "print(extracted_text)\n"
      ],
      "metadata": {
        "colab": {
          "base_uri": "https://localhost:8080/"
        },
        "id": "fj6e7Bej6KO4",
        "outputId": "9131e28d-ef44-48fc-d8d9-4094c0e9e71f"
      },
      "execution_count": 20,
      "outputs": [
        {
          "output_type": "stream",
          "name": "stdout",
          "text": [
            "Extracted Text:\n",
            " \n",
            "\f\n"
          ]
        }
      ]
    }
  ],
  "metadata": {
    "accelerator": "GPU",
    "colab": {
      "provenance": [],
      "authorship_tag": "ABX9TyNQzVu5fR0qUA4ioEs+3vf2",
      "include_colab_link": true
    },
    "kernelspec": {
      "display_name": "Python 3",
      "name": "python3"
    },
    "language_info": {
      "name": "python"
    }
  },
  "nbformat": 4,
  "nbformat_minor": 0
}